{
  "nbformat": 4,
  "nbformat_minor": 0,
  "metadata": {
    "colab": {
      "provenance": []
    },
    "kernelspec": {
      "name": "python3",
      "display_name": "Python 3"
    },
    "language_info": {
      "name": "python"
    }
  },
  "cells": [
    {
      "cell_type": "markdown",
      "source": [
        "Aluno: Felipe Rafael dos Santos Barbosa\n",
        "\n",
        "E-mail: rafaelt.ibarbosa@gmail.com"
      ],
      "metadata": {
        "id": "qnV9Dtua1wpT"
      }
    },
    {
      "cell_type": "markdown",
      "source": [
        "## Lista de Dicionários"
      ],
      "metadata": {
        "id": "UaSDqD3R2cVQ"
      }
    },
    {
      "cell_type": "markdown",
      "source": [
        "Esta atividade utiliza uma lista com 12 dicionários, onde cada dicionário descreve as características de um ninho encontrado."
      ],
      "metadata": {
        "id": "KHXwN9_CyAUZ"
      }
    },
    {
      "cell_type": "code",
      "execution_count": 1,
      "metadata": {
        "id": "wlOl2jyRlnTs"
      },
      "outputs": [],
      "source": [
        "lista_de_ninhos = [{\"regiao\": \"Ilha de Marajó\", \"quantidade_ovos\": 10, \"status\": \"danificado\", \"risco\": \"🟡\", \"dias_para_eclosao\": 10, \"predadores\": False},\n",
        "                    {\"regiao\": \"Ilha de Cotijuba\", \"quantidade_ovos\": 8, \"status\": \"intacto\", \"risco\": \"🟢\", \"dias_para_eclosao\": 5, \"predadores\": False},\n",
        "                    {\"regiao\": \"Ilha das Onças\", \"quantidade_ovos\": 12, \"status\": \"ameaçado\", \"risco\": \"🔴\", \"dias_para_eclosao\": 15, \"predadores\": True},\n",
        "                    {\"regiao\": \"Praia de Atalaia\", \"quantidade_ovos\": 9, \"status\": \"intacto\", \"risco\": \"🟢\", \"dias_para_eclosao\": 7, \"predadores\": False},\n",
        "                    {\"regiao\": \"Ilha das Onças\", \"quantidade_ovos\": 11, \"status\": \"danificado\", \"risco\": \"🟡\", \"dias_para_eclosao\": 12, \"predadores\": False},\n",
        "                    {\"regiao\": \"Ilha do Mosqueiro\", \"quantidade_ovos\": 7, \"status\": \"intacto\", \"risco\": \"🟢\", \"dias_para_eclosao\": 4, \"predadores\": False},\n",
        "                    {\"regiao\": \"Ilha do Outeiro\", \"quantidade_ovos\": 10, \"status\": \"ameaçado\", \"risco\": \"🔴\", \"dias_para_eclosao\": 18, \"predadores\": True},\n",
        "                    {\"regiao\": \"Ilha do Mosqueiro\", \"quantidade_ovos\": 8, \"status\": \"intacto\", \"risco\": \"🟢\", \"dias_para_eclosao\": 6, \"predadores\": False},\n",
        "                    {\"regiao\": \"Ilha de Cotijuba\", \"quantidade_ovos\": 13, \"status\": \"ameaçado\", \"risco\": \"🟡\", \"dias_para_eclosao\": 14, \"predadores\": True},\n",
        "                    {\"regiao\": \"Ilha do Outeiro\", \"quantidade_ovos\": 9, \"status\": \"intacto\", \"risco\": \"🟢\", \"dias_para_eclosao\": 8, \"predadores\": False},\n",
        "                    {\"regiao\": \"Praia de Atalaia\", \"quantidade_ovos\": 10, \"status\": \"intacto\", \"risco\": \"🔴\", \"dias_para_eclosao\": 16, \"predadores\": True},\n",
        "                    {\"regiao\": \"Ilha das Onças\", \"quantidade_ovos\": 12, \"status\": \"ameaçado\", \"risco\": \"🔴\", \"dias_para_eclosao\": 15, \"predadores\": True}]"
      ]
    },
    {
      "cell_type": "markdown",
      "source": [
        "As funções foram desenvolvidas com o objetivo de responder as seguintes perguntas:\n",
        "\n",
        "1. Quantos ninhos há no total?\n",
        "2. Qual a média de ovos por ninho com risco 🟢?\n",
        "3. Quantos ninhos estão prestes a eclodir (dias <= 5)?\n",
        "4. Qual região tem mais ninhos sob risco 🔴?\n",
        "5. Quantos ninhos têm presença de predadores e estão danificados?\n",
        "\n",
        "Em seguida foi implementada uma função de menu que será utilizada para acessar as demais funcionalidades exigidas na atividade que consistem em:\n",
        "\n",
        "1. Inserir novos ninhos;\n",
        "2. Visualizar o relatório completo da semana;\n",
        "3. Consultar estatísticas com base nas perguntas acima;\n",
        "4. Encerrar Sistema\n",
        "\n",
        "E por fim realizar a validação dos dados através de tratamentos como, não aceitar quantidade de ovos negativos, status inválidos, emojis diferentes dos 🟢, 🟡, 🔴, etc.\n",
        "\n",
        "Dessa forma, todos os requisitos solicitados e um pouco mais foram aplicados à atividade, com o objetivo de demonstrar o que foi aprendido durante o curso \"Inteligência Artificial Aplicada aos Desafios Socioambientais da Amazônia\" disponibilizado pela I2A2."
      ],
      "metadata": {
        "id": "sg39Kwv4yfVl"
      }
    },
    {
      "cell_type": "markdown",
      "source": [
        "## Funções"
      ],
      "metadata": {
        "id": "hOkDc_lV2qgW"
      }
    },
    {
      "cell_type": "markdown",
      "source": [
        " 1. Quantos ninhos há no total?"
      ],
      "metadata": {
        "id": "L6ZsXXGTnYur"
      }
    },
    {
      "cell_type": "markdown",
      "source": [
        "Função lambda para contar a quantidade total de ninhos em uma lista.\n",
        "\n",
        "Esta função recebe um parâmetro (por exemplo, uma lista de ninhos) e retorna a quantidade total de elementos nela."
      ],
      "metadata": {
        "id": "a4ndEhitqBLJ"
      }
    },
    {
      "cell_type": "code",
      "source": [
        "quantidade_total_ninhos = lambda param: len(param)\n",
        "\n",
        "# Exemplo de uso:\n",
        "# lista_ninhos = ['ninho1', 'ninho2', 'ninho3']\n",
        "# total = quantidade_total_ninhos(lista_ninhos)\n",
        "# print(f\"Quantidade total de ninhos: {total}\")"
      ],
      "metadata": {
        "id": "BjSkkz7SnaG9"
      },
      "execution_count": 2,
      "outputs": []
    },
    {
      "cell_type": "markdown",
      "source": [
        "2. Qual a média de ovos por ninho com risco 🟢?"
      ],
      "metadata": {
        "id": "rkh2tpofnhpb"
      }
    },
    {
      "cell_type": "code",
      "source": [
        "def media_ovos_com_risco(minha_lista_de_ninhos, tipo = \"🟢\", /):\n",
        "    \"\"\"\n",
        "    Calcula a média de ovos nos ninhos com um determinado tipo de risco.\n",
        "\n",
        "    Parâmetros:\n",
        "    ----------\n",
        "    minha_lista_de_ninhos : list[dict]\n",
        "        Lista de dicionários, onde cada dicionário representa um ninho com\n",
        "        informações como risco e quantidade de ovos.\n",
        "\n",
        "    tipo : str, opcional (padrão = \"🟢\")\n",
        "        Emoji ou string que representa o tipo de risco a ser considerado\n",
        "        na filtragem dos ninhos.\n",
        "\n",
        "    Retorno:\n",
        "    -------\n",
        "    float\n",
        "        A média de ovos entre os ninhos que possuem o tipo de risco informado.\n",
        "        Caso não haja nenhum ninho com esse risco, retorna 0.\n",
        "    \"\"\"\n",
        "    # Filtra os ninhos que possuem o tipo de risco informado\n",
        "    ninho_risco_tipo = [\n",
        "        ninho for ninho in minha_lista_de_ninhos if tipo in ninho[\"risco\"]\n",
        "    ]\n",
        "\n",
        "    media_ovos_risco_tipo = 0.0\n",
        "\n",
        "    if ninho_risco_tipo:\n",
        "        total_ovos_risco_tipo = 0\n",
        "\n",
        "        for ninho in ninho_risco_tipo:\n",
        "            total_ovos_risco_tipo += ninho['quantidade_ovos']\n",
        "\n",
        "\n",
        "        quantidade_ninhos_risco_tipo = len(ninho_risco_tipo)\n",
        "        media_ovos_risco_tipo += total_ovos_risco_tipo / quantidade_ninhos_risco_tipo\n",
        "\n",
        "    return media_ovos_risco_tipo"
      ],
      "metadata": {
        "id": "ksdkJdNJnWRt"
      },
      "execution_count": 3,
      "outputs": []
    },
    {
      "cell_type": "markdown",
      "source": [
        "3. Quantos ninhos estão prestes a eclodir (dias <= 5)?"
      ],
      "metadata": {
        "id": "UlcfNANmnwoZ"
      }
    },
    {
      "cell_type": "code",
      "source": [
        "def ninhos_prestes_eclodir(minha_lista_de_ninhos, /):\n",
        "    \"\"\"\n",
        "    Conta quantos ninhos estão prestes a eclodir (em até 5 dias).\n",
        "\n",
        "    Parâmetros:\n",
        "    ----------\n",
        "    minha_lista_de_ninhos : list[dict]\n",
        "        Lista de dicionários, onde cada dicionário representa um ninho\n",
        "        contendo a chave 'dias_para_eclosao'.\n",
        "\n",
        "    Retorno:\n",
        "    -------\n",
        "    int\n",
        "        Quantidade de ninhos com 5 dias ou menos para eclosão.\n",
        "    \"\"\"\n",
        "\n",
        "    lista_ninhos_eclodir = [\n",
        "        ninho for ninho in minha_lista_de_ninhos\n",
        "        if ninho[\"dias_para_eclosao\"] <= 5\n",
        "    ]\n",
        "\n",
        "    quantidade_ninhos_eclodir = len(lista_ninhos_eclodir)\n",
        "\n",
        "    return quantidade_ninhos_eclodir"
      ],
      "metadata": {
        "id": "HoRlYVZ0nzC_"
      },
      "execution_count": 4,
      "outputs": []
    },
    {
      "cell_type": "markdown",
      "source": [
        "4. Qual região tem mais ninhos sob risco 🔴?"
      ],
      "metadata": {
        "id": "_nn3lkHxn7iy"
      }
    },
    {
      "cell_type": "code",
      "source": [
        "def encontrar_regiao_com_mais_ninhos_risco_vermelho(minha_lista_de_ninhos, /):\n",
        "    \"\"\"\n",
        "    Encontra a região com maior quantidade de ninhos sob risco vermelho (🔴).\n",
        "\n",
        "    Parâmetros:\n",
        "    ----------\n",
        "    minha_lista_de_ninhos : list[dict]\n",
        "        Lista de dicionários representando os ninhos, onde cada item deve conter\n",
        "        as chaves 'risco' e 'regiao'.\n",
        "\n",
        "    Retorno:\n",
        "    -------\n",
        "    str\n",
        "        Mensagem informando a região com mais ninhos sob risco 🔴 e a quantidade encontrada.\n",
        "        Caso nenhum ninho esteja sob risco 🔴, retorna uma mensagem informando isso.\n",
        "    \"\"\"\n",
        "\n",
        "    ninhos_risco_vermelho = [\n",
        "        ninho for ninho in minha_lista_de_ninhos if \"🔴\" in ninho[\"risco\"]\n",
        "    ]\n",
        "\n",
        "    dicionario_contador_regioes = {}\n",
        "\n",
        "    for ninho in ninhos_risco_vermelho:\n",
        "        regiao = ninho[\"regiao\"]\n",
        "        if regiao in dicionario_contador_regioes:\n",
        "            dicionario_contador_regioes[regiao] += 1\n",
        "        else:\n",
        "            dicionario_contador_regioes[regiao] = 1\n",
        "\n",
        "    if dicionario_contador_regioes:\n",
        "        maior_valor_dicionario_regioes = 0\n",
        "        nome_da_regiao = \"\"\n",
        "        # Encontra a região com mais ocorrências\n",
        "        for key, value in dicionario_contador_regioes.items():\n",
        "            if value > maior_valor_dicionario_regioes:\n",
        "                maior_valor_dicionario_regioes = value\n",
        "                nome_da_regiao = key\n",
        "\n",
        "        regiao_mais_ninhos_risco_vermelho = nome_da_regiao\n",
        "        quantidade_ninhos = maior_valor_dicionario_regioes\n",
        "\n",
        "        return f\"A região com mais ninhos sob risco 🔴 é a {regiao_mais_ninhos_risco_vermelho} com {quantidade_ninhos} ninhos;\"\n",
        "\n",
        "    else:\n",
        "        return \"Não há ninhos sob risco 🔴 para determinar a região;\""
      ],
      "metadata": {
        "id": "pfuPdrDqoGBD"
      },
      "execution_count": 5,
      "outputs": []
    },
    {
      "cell_type": "markdown",
      "source": [
        "5. Quantos ninhos têm presença de predadores e estão danificados?"
      ],
      "metadata": {
        "id": "CPfvuiiEoI6b"
      }
    },
    {
      "cell_type": "code",
      "source": [
        "def quantidade_de_ninhos_com_presenca_de_predadores(minha_lista_de_ninhos, /):\n",
        "    \"\"\"\n",
        "    Conta a quantidade de ninhos danificados com presença confirmada de predadores.\n",
        "\n",
        "    Parâmetros:\n",
        "    ----------\n",
        "    minha_lista_de_ninhos : list[dict]\n",
        "        Lista de dicionários representando ninhos. Cada dicionário deve conter\n",
        "        as chaves 'predadores' (bool) e 'status' (str).\n",
        "\n",
        "    Retorno:\n",
        "    -------\n",
        "    int\n",
        "        Quantidade de ninhos danificados que apresentam presença de predadores.\n",
        "    \"\"\"\n",
        "\n",
        "    ninhos_com_presenca_predadores = [\n",
        "        ninho[\"predadores\"] for ninho in minha_lista_de_ninhos\n",
        "        if ninho[\"predadores\"] == True and ninho[\"status\"] == \"danificado\"\n",
        "    ]\n",
        "\n",
        "    soma_ninhos_presenca_predadores = len(ninhos_com_presenca_predadores)\n",
        "\n",
        "    return soma_ninhos_presenca_predadores"
      ],
      "metadata": {
        "id": "yc9sDVDd2pC0"
      },
      "execution_count": 6,
      "outputs": []
    },
    {
      "cell_type": "code",
      "source": [
        "def menu():\n",
        "    print(\"\\n--- Menu Principal ---\")\n",
        "    print(\"1 - Inserir novos ninhos\")\n",
        "    print(\"2 - Visualizar o Relatório Completo da Semana\")\n",
        "    print(\"3 - Consultar Estatísticas\")\n",
        "    print(\"4 - Encerrar o Sistema\")\n",
        "    return int(input(\"Escolha uma opção: \"))"
      ],
      "metadata": {
        "id": "ID1oDV2UsuO0"
      },
      "execution_count": 7,
      "outputs": []
    },
    {
      "cell_type": "code",
      "source": [
        "while True:\n",
        "    opcao = menu()\n",
        "\n",
        "    # Esta opção segue a ordem das informações dos dicionários contidos na lista para registrar um novo dicionário dentro da lista de ninhos\n",
        "    if opcao == 1:\n",
        "        print(\"\\n--- Inserir Novo Ninho ---\")\n",
        "        novo_ninho = {}\n",
        "\n",
        "        # Região\n",
        "        novo_ninho[\"regiao\"] = input(\"Digite o Nome da Região: \")\n",
        "\n",
        "        # Quantidade de ovos\n",
        "        quantidade_de_ovos = int(input(\"Digite a quantidade de ovos no ninho encontrado: \"))\n",
        "        if quantidade_de_ovos < 0:\n",
        "            print(\"❌ A quantidade de ovos não pode ser negativa. Tente novamente!\\n\")\n",
        "            continue\n",
        "\n",
        "        else:\n",
        "            novo_ninho[\"quantidade_ovos\"] = quantidade_de_ovos\n",
        "\n",
        "            # Status do ninho\n",
        "            status_do_ninho = input(\"Estado do ninho (intacto, ameaçado, danificado): \").lower()\n",
        "            if status_do_ninho not in [\"intacto\", \"ameaçado\", \"danificado\"]:\n",
        "                print(\"❌ Status do ninho inválido. Tente novamente!\\n\")\n",
        "\n",
        "            else:\n",
        "                novo_ninho[\"status\"] = status_do_ninho\n",
        "\n",
        "                # Risco (emoji)\n",
        "                risco_emoji = input(\"Cite o risco do ninho (\\\"🟢\\\", \\\"🟡\\\", \\\"🔴\\\"): \")\n",
        "                if  risco_emoji not in [\"🟢\", \"🟡\", \"🔴\"]:\n",
        "                    print(\"❌ Risco inválido. Tente novamente!\\n\")\n",
        "                    continue\n",
        "\n",
        "                else:\n",
        "                    novo_ninho[\"risco\"] = risco_emoji\n",
        "\n",
        "                    # Dias para eclosão\n",
        "                    dias_para_eclosao = int(input(\"Quantos dias faltam para a eclosão: \"))\n",
        "                    if dias_para_eclosao < 0:\n",
        "                        print(\"❌ O número de dias não pode ser negativo. Tente novamente!\\n\")\n",
        "                        continue\n",
        "\n",
        "                    else:\n",
        "                        novo_ninho[\"dias_para_eclosao\"] = dias_para_eclosao\n",
        "\n",
        "                        # Predadores\n",
        "                        valor_predadores = input(\"Há presença de predadores? (Sim / Não): \").lower()\n",
        "                        novo_ninho[\"predadores\"] = valor_predadores == \"sim\"\n",
        "\n",
        "                        lista_de_ninhos.append(novo_ninho)\n",
        "\n",
        "                        print(\"✅ Ninho inserido com sucesso!\\n\")\n",
        "\n",
        "    elif opcao == 2:\n",
        "        print(\"================== Relatório Completo da Semana ==================\")\n",
        "        print(\"------------------------------------------------------------------\")\n",
        "        print(\"Região, Qtd. Ovos, Status, Risco, Dias p/ Eclosão, Predatores\")\n",
        "\n",
        "        # Percorre a lista de ninhos para exibir as informações de cada dicionário da lista\n",
        "        for ninho in lista_de_ninhos:\n",
        "            print(f\"{ninho['regiao']}, {ninho['quantidade_ovos']}, {ninho['status']}, {ninho['risco']}, {ninho['dias_para_eclosao']}, {ninho['predadores']}\")\n",
        "\n",
        "        print(\"------------------------------------------------------------------\\n\\n\")\n",
        "\n",
        "    elif opcao == 3:\n",
        "        print(\"\\n================== Estatísticas ==================\")\n",
        "        print(\"--------------------------------------------------\")\n",
        "\n",
        "        # Total de ninhos\n",
        "        total_ninhos = quantidade_total_ninhos(lista_de_ninhos)\n",
        "        print(f\"📦 Quantidade total de ninhos: {total_ninhos}\")\n",
        "\n",
        "        # Média de ovos para ninhos com risco verde\n",
        "        media_ovos_verde = media_ovos_com_risco(lista_de_ninhos, \"🟢\")\n",
        "        print(f\"🥚 Média de ovos por ninho com risco 🟢: {media_ovos_verde:.2f}\")\n",
        "\n",
        "        # Ninhos prestes a eclodir (<= 5 dias)\n",
        "        ninhos_eclodir = ninhos_prestes_eclodir(lista_de_ninhos)\n",
        "        print(f\"🐣 Ninhos prestes a eclodir (<= 5 dias): {ninhos_eclodir}\")\n",
        "\n",
        "        # Região com mais ninhos de risco vermelho\n",
        "        print(f\"📍 {encontrar_regiao_com_mais_ninhos_risco_vermelho(lista_de_ninhos)}\")\n",
        "\n",
        "        # Ninhos danificados com predadores\n",
        "        ninhos_com_predadores = quantidade_de_ninhos_com_presenca_de_predadores(lista_de_ninhos)\n",
        "        print(f\"🐢 Ninhos danificados com presença de predadores: {ninhos_com_predadores}\")\n",
        "\n",
        "        print(\"--------------------------------------------------\\n\")\n",
        "\n",
        "    elif opcao == 4:\n",
        "        print(\"\\nDesligando o monitoramento de ninhos... Volte sempre! 🐢🌱👋\")\n",
        "        break\n",
        "\n",
        "    else:\n",
        "        print(\"Escolha uma opção válida!\")"
      ],
      "metadata": {
        "colab": {
          "base_uri": "https://localhost:8080/"
        },
        "id": "lOgM1VW8BobN",
        "outputId": "85b53356-16c5-4798-c3ee-a3116794bad8"
      },
      "execution_count": 8,
      "outputs": [
        {
          "output_type": "stream",
          "name": "stdout",
          "text": [
            "\n",
            "--- Menu Principal ---\n",
            "1 - Inserir novos ninhos\n",
            "2 - Visualizar o Relatório Completo da Semana\n",
            "3 - Consultar Estatísticas\n",
            "4 - Encerrar o Sistema\n",
            "Escolha uma opção: 1\n",
            "\n",
            "--- Inserir Novo Ninho ---\n",
            "Digite o Nome da Região: Ilha das Onças\n",
            "Digite a quantidade de ovos no ninho encontrado: 20\n",
            "Estado do ninho (intacto, ameaçado, danificado): ameaçado\n",
            "Cite o risco do ninho (\"🟢\", \"🟡\", \"🔴\"): 🔴\n",
            "Quantos dias faltam para a eclosão: 10\n",
            "Há presença de predadores? (Sim / Não): Sim\n",
            "✅ Ninho inserido com sucesso!\n",
            "\n",
            "\n",
            "--- Menu Principal ---\n",
            "1 - Inserir novos ninhos\n",
            "2 - Visualizar o Relatório Completo da Semana\n",
            "3 - Consultar Estatísticas\n",
            "4 - Encerrar o Sistema\n",
            "Escolha uma opção: 2\n",
            "================== Relatório Completo da Semana ==================\n",
            "------------------------------------------------------------------\n",
            "Região, Qtd. Ovos, Status, Risco, Dias p/ Eclosão, Predatores\n",
            "Ilha de Marajó, 10, danificado, 🟡, 10, False\n",
            "Ilha de Cotijuba, 8, intacto, 🟢, 5, False\n",
            "Ilha das Onças, 12, ameaçado, 🔴, 15, True\n",
            "Praia de Atalaia, 9, intacto, 🟢, 7, False\n",
            "Ilha das Onças, 11, danificado, 🟡, 12, False\n",
            "Ilha do Mosqueiro, 7, intacto, 🟢, 4, False\n",
            "Ilha do Outeiro, 10, ameaçado, 🔴, 18, True\n",
            "Ilha do Mosqueiro, 8, intacto, 🟢, 6, False\n",
            "Ilha de Cotijuba, 13, ameaçado, 🟡, 14, True\n",
            "Ilha do Outeiro, 9, intacto, 🟢, 8, False\n",
            "Praia de Atalaia, 10, intacto, 🔴, 16, True\n",
            "Ilha das Onças, 12, ameaçado, 🔴, 15, True\n",
            "Ilha das Onças, 20, ameaçado, 🔴, 10, True\n",
            "------------------------------------------------------------------\n",
            "\n",
            "\n",
            "\n",
            "--- Menu Principal ---\n",
            "1 - Inserir novos ninhos\n",
            "2 - Visualizar o Relatório Completo da Semana\n",
            "3 - Consultar Estatísticas\n",
            "4 - Encerrar o Sistema\n",
            "Escolha uma opção: 3\n",
            "\n",
            "================== Estatísticas ==================\n",
            "--------------------------------------------------\n",
            "📦 Quantidade total de ninhos: 13\n",
            "🥚 Média de ovos por ninho com risco 🟢: 8.20\n",
            "🐣 Ninhos prestes a eclodir (<= 5 dias): 2\n",
            "📍 A região com mais ninhos sob risco 🔴 é a Ilha das Onças com 3 ninhos;\n",
            "🐢 Ninhos danificados com presença de predadores: 0\n",
            "--------------------------------------------------\n",
            "\n",
            "\n",
            "--- Menu Principal ---\n",
            "1 - Inserir novos ninhos\n",
            "2 - Visualizar o Relatório Completo da Semana\n",
            "3 - Consultar Estatísticas\n",
            "4 - Encerrar o Sistema\n",
            "Escolha uma opção: 4\n",
            "\n",
            "Desligando o monitoramento de ninhos... Volte sempre! 🐢🌱👋\n"
          ]
        }
      ]
    }
  ]
}